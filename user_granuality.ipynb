{
 "cells": [
  {
   "cell_type": "code",
   "execution_count": 1,
   "metadata": {},
   "outputs": [],
   "source": [
    "import numpy as np\n",
    "import pandas as pd"
   ]
  },
  {
   "cell_type": "code",
   "execution_count": 2,
   "metadata": {},
   "outputs": [
    {
     "name": "stderr",
     "output_type": "stream",
     "text": [
      "/var/folders/1m/hvnyjbcx2rxfb9d__rb_m7h00000gp/T/ipykernel_21111/650494655.py:5: DtypeWarning: Columns (4,7,8,9) have mixed types. Specify dtype option on import or set low_memory=False.\n",
      "  ride_requests = pd.read_csv('metrocar_data/ride_requests.csv')\n"
     ]
    }
   ],
   "source": [
    "# import the  data\n",
    "\n",
    "app_downloads = pd.read_csv('metrocar_data/app_downloads.csv')\n",
    "reviews = pd.read_csv('metrocar_data/reviews.csv')\n",
    "ride_requests = pd.read_csv('metrocar_data/ride_requests.csv')\n",
    "signups = pd.read_csv('metrocar_data/signups.csv')\n",
    "transactions = pd.read_csv('metrocar_data/transactions.csv')"
   ]
  },
  {
   "cell_type": "code",
   "execution_count": 3,
   "metadata": {},
   "outputs": [],
   "source": [
    "df = app_downloads.merge(signups, left_on='app_download_key', right_on='session_id', how='inner' )\\\n",
    "                  .merge(ride_requests, on='user_id', how='inner')\\\n",
    "                  .merge(transactions, on='ride_id', how='inner')\\\n",
    "                  .merge(reviews, on=['user_id','ride_id','driver_id'], how='inner')\n",
    "\n",
    "# downloads_df.merge(signups_df, left_on='app_download_key', right_on='session_id', how='inner')"
   ]
  },
  {
   "cell_type": "code",
   "execution_count": 4,
   "metadata": {},
   "outputs": [
    {
     "data": {
      "text/plain": [
       "Index(['app_download_key', 'platform', 'download_ts', 'user_id', 'session_id',\n",
       "       'signup_ts', 'age_range', 'ride_id', 'driver_id', 'request_ts',\n",
       "       'accept_ts', 'pickup_location', 'dropoff_location', 'pickup_ts',\n",
       "       'dropoff_ts', 'cancel_ts', 'transaction_id', 'purchase_amount_usd',\n",
       "       'charge_status', 'transaction_ts', 'review_id', 'rating', 'review'],\n",
       "      dtype='object')"
      ]
     },
     "execution_count": 4,
     "metadata": {},
     "output_type": "execute_result"
    }
   ],
   "source": [
    "df.columns"
   ]
  },
  {
   "cell_type": "code",
   "execution_count": 5,
   "metadata": {},
   "outputs": [],
   "source": [
    "columns_to_convert = ['download_ts', 'signup_ts', 'request_ts', 'accept_ts', 'pickup_ts', 'dropoff_ts', 'cancel_ts', 'transaction_ts', 'review_id']\n",
    "\n",
    "for column in columns_to_convert:\n",
    "    new_column_name = column.replace('_ts', '')\n",
    "    df[column] = df[column].notna().astype(int)\n",
    "    df = df.rename(columns={column: new_column_name})"
   ]
  },
  {
   "cell_type": "code",
   "execution_count": 10,
   "metadata": {},
   "outputs": [],
   "source": [
    "df = df[['user_id', 'age_range', 'platform', 'download', 'signup', 'request', 'accept', 'pickup', 'dropoff', 'cancel', 'transaction', 'charge_status', 'purchase_amount_usd','review_id', 'rating']]"
   ]
  },
  {
   "cell_type": "code",
   "execution_count": 11,
   "metadata": {},
   "outputs": [
    {
     "data": {
      "text/html": [
       "<div>\n",
       "<style scoped>\n",
       "    .dataframe tbody tr th:only-of-type {\n",
       "        vertical-align: middle;\n",
       "    }\n",
       "\n",
       "    .dataframe tbody tr th {\n",
       "        vertical-align: top;\n",
       "    }\n",
       "\n",
       "    .dataframe thead th {\n",
       "        text-align: right;\n",
       "    }\n",
       "</style>\n",
       "<table border=\"1\" class=\"dataframe\">\n",
       "  <thead>\n",
       "    <tr style=\"text-align: right;\">\n",
       "      <th></th>\n",
       "      <th>user_id</th>\n",
       "      <th>age_range</th>\n",
       "      <th>platform</th>\n",
       "      <th>download</th>\n",
       "      <th>signup</th>\n",
       "      <th>request</th>\n",
       "      <th>accept</th>\n",
       "      <th>pickup</th>\n",
       "      <th>dropoff</th>\n",
       "      <th>cancel</th>\n",
       "      <th>transaction</th>\n",
       "      <th>charge_status</th>\n",
       "      <th>purchase_amount_usd</th>\n",
       "      <th>review_id</th>\n",
       "      <th>rating</th>\n",
       "    </tr>\n",
       "  </thead>\n",
       "  <tbody>\n",
       "    <tr>\n",
       "      <th>0</th>\n",
       "      <td>100497</td>\n",
       "      <td>45-54</td>\n",
       "      <td>android</td>\n",
       "      <td>1</td>\n",
       "      <td>1</td>\n",
       "      <td>1</td>\n",
       "      <td>1</td>\n",
       "      <td>1</td>\n",
       "      <td>1</td>\n",
       "      <td>0</td>\n",
       "      <td>1</td>\n",
       "      <td>Approved</td>\n",
       "      <td>13.05</td>\n",
       "      <td>1</td>\n",
       "      <td>4</td>\n",
       "    </tr>\n",
       "    <tr>\n",
       "      <th>1</th>\n",
       "      <td>100497</td>\n",
       "      <td>45-54</td>\n",
       "      <td>android</td>\n",
       "      <td>1</td>\n",
       "      <td>1</td>\n",
       "      <td>1</td>\n",
       "      <td>1</td>\n",
       "      <td>1</td>\n",
       "      <td>1</td>\n",
       "      <td>0</td>\n",
       "      <td>1</td>\n",
       "      <td>Approved</td>\n",
       "      <td>25.10</td>\n",
       "      <td>1</td>\n",
       "      <td>1</td>\n",
       "    </tr>\n",
       "    <tr>\n",
       "      <th>2</th>\n",
       "      <td>100497</td>\n",
       "      <td>45-54</td>\n",
       "      <td>android</td>\n",
       "      <td>1</td>\n",
       "      <td>1</td>\n",
       "      <td>1</td>\n",
       "      <td>1</td>\n",
       "      <td>1</td>\n",
       "      <td>1</td>\n",
       "      <td>0</td>\n",
       "      <td>1</td>\n",
       "      <td>Approved</td>\n",
       "      <td>18.38</td>\n",
       "      <td>1</td>\n",
       "      <td>1</td>\n",
       "    </tr>\n",
       "    <tr>\n",
       "      <th>3</th>\n",
       "      <td>100497</td>\n",
       "      <td>45-54</td>\n",
       "      <td>android</td>\n",
       "      <td>1</td>\n",
       "      <td>1</td>\n",
       "      <td>1</td>\n",
       "      <td>1</td>\n",
       "      <td>1</td>\n",
       "      <td>1</td>\n",
       "      <td>0</td>\n",
       "      <td>1</td>\n",
       "      <td>Approved</td>\n",
       "      <td>27.20</td>\n",
       "      <td>1</td>\n",
       "      <td>5</td>\n",
       "    </tr>\n",
       "    <tr>\n",
       "      <th>4</th>\n",
       "      <td>100497</td>\n",
       "      <td>45-54</td>\n",
       "      <td>android</td>\n",
       "      <td>1</td>\n",
       "      <td>1</td>\n",
       "      <td>1</td>\n",
       "      <td>1</td>\n",
       "      <td>1</td>\n",
       "      <td>1</td>\n",
       "      <td>0</td>\n",
       "      <td>1</td>\n",
       "      <td>Approved</td>\n",
       "      <td>22.49</td>\n",
       "      <td>1</td>\n",
       "      <td>4</td>\n",
       "    </tr>\n",
       "  </tbody>\n",
       "</table>\n",
       "</div>"
      ],
      "text/plain": [
       "   user_id age_range platform  download  signup  request  accept  pickup  \\\n",
       "0   100497     45-54  android         1       1        1       1       1   \n",
       "1   100497     45-54  android         1       1        1       1       1   \n",
       "2   100497     45-54  android         1       1        1       1       1   \n",
       "3   100497     45-54  android         1       1        1       1       1   \n",
       "4   100497     45-54  android         1       1        1       1       1   \n",
       "\n",
       "   dropoff  cancel  transaction charge_status  purchase_amount_usd  review_id  \\\n",
       "0        1       0            1      Approved                13.05          1   \n",
       "1        1       0            1      Approved                25.10          1   \n",
       "2        1       0            1      Approved                18.38          1   \n",
       "3        1       0            1      Approved                27.20          1   \n",
       "4        1       0            1      Approved                22.49          1   \n",
       "\n",
       "   rating  \n",
       "0       4  \n",
       "1       1  \n",
       "2       1  \n",
       "3       5  \n",
       "4       4  "
      ]
     },
     "execution_count": 11,
     "metadata": {},
     "output_type": "execute_result"
    }
   ],
   "source": [
    "df.head()"
   ]
  },
  {
   "cell_type": "code",
   "execution_count": 12,
   "metadata": {},
   "outputs": [],
   "source": [
    "grouped_df = df[df['user_id'] == 100497].groupby('user_id').first()\n"
   ]
  },
  {
   "cell_type": "code",
   "execution_count": 13,
   "metadata": {},
   "outputs": [
    {
     "data": {
      "text/html": [
       "<div>\n",
       "<style scoped>\n",
       "    .dataframe tbody tr th:only-of-type {\n",
       "        vertical-align: middle;\n",
       "    }\n",
       "\n",
       "    .dataframe tbody tr th {\n",
       "        vertical-align: top;\n",
       "    }\n",
       "\n",
       "    .dataframe thead th {\n",
       "        text-align: right;\n",
       "    }\n",
       "</style>\n",
       "<table border=\"1\" class=\"dataframe\">\n",
       "  <thead>\n",
       "    <tr style=\"text-align: right;\">\n",
       "      <th></th>\n",
       "      <th>age_range</th>\n",
       "      <th>platform</th>\n",
       "      <th>download</th>\n",
       "      <th>signup</th>\n",
       "      <th>request</th>\n",
       "      <th>accept</th>\n",
       "      <th>pickup</th>\n",
       "      <th>dropoff</th>\n",
       "      <th>cancel</th>\n",
       "      <th>transaction</th>\n",
       "      <th>charge_status</th>\n",
       "      <th>purchase_amount_usd</th>\n",
       "      <th>review_id</th>\n",
       "      <th>rating</th>\n",
       "    </tr>\n",
       "    <tr>\n",
       "      <th>user_id</th>\n",
       "      <th></th>\n",
       "      <th></th>\n",
       "      <th></th>\n",
       "      <th></th>\n",
       "      <th></th>\n",
       "      <th></th>\n",
       "      <th></th>\n",
       "      <th></th>\n",
       "      <th></th>\n",
       "      <th></th>\n",
       "      <th></th>\n",
       "      <th></th>\n",
       "      <th></th>\n",
       "      <th></th>\n",
       "    </tr>\n",
       "  </thead>\n",
       "  <tbody>\n",
       "    <tr>\n",
       "      <th>100497</th>\n",
       "      <td>45-54</td>\n",
       "      <td>android</td>\n",
       "      <td>1</td>\n",
       "      <td>1</td>\n",
       "      <td>1</td>\n",
       "      <td>1</td>\n",
       "      <td>1</td>\n",
       "      <td>1</td>\n",
       "      <td>0</td>\n",
       "      <td>1</td>\n",
       "      <td>Approved</td>\n",
       "      <td>13.05</td>\n",
       "      <td>1</td>\n",
       "      <td>4</td>\n",
       "    </tr>\n",
       "  </tbody>\n",
       "</table>\n",
       "</div>"
      ],
      "text/plain": [
       "        age_range platform  download  signup  request  accept  pickup  \\\n",
       "user_id                                                                 \n",
       "100497      45-54  android         1       1        1       1       1   \n",
       "\n",
       "         dropoff  cancel  transaction charge_status  purchase_amount_usd  \\\n",
       "user_id                                                                    \n",
       "100497         1       0            1      Approved                13.05   \n",
       "\n",
       "         review_id  rating  \n",
       "user_id                     \n",
       "100497           1       4  "
      ]
     },
     "execution_count": 13,
     "metadata": {},
     "output_type": "execute_result"
    }
   ],
   "source": [
    "grouped_df"
   ]
  },
  {
   "cell_type": "code",
   "execution_count": null,
   "metadata": {},
   "outputs": [],
   "source": []
  }
 ],
 "metadata": {
  "kernelspec": {
   "display_name": "metro",
   "language": "python",
   "name": "python3"
  },
  "language_info": {
   "codemirror_mode": {
    "name": "ipython",
    "version": 3
   },
   "file_extension": ".py",
   "mimetype": "text/x-python",
   "name": "python",
   "nbconvert_exporter": "python",
   "pygments_lexer": "ipython3",
   "version": "3.11.3"
  },
  "orig_nbformat": 4
 },
 "nbformat": 4,
 "nbformat_minor": 2
}
